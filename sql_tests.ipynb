{
 "cells": [
  {
   "cell_type": "code",
   "execution_count": 1,
   "metadata": {},
   "outputs": [],
   "source": [
    "import pandas as pd\n",
    "import sqlite3"
   ]
  },
  {
   "cell_type": "code",
   "execution_count": 5,
   "metadata": {},
   "outputs": [
    {
     "data": {
      "text/html": [
       "<div>\n",
       "<style scoped>\n",
       "    .dataframe tbody tr th:only-of-type {\n",
       "        vertical-align: middle;\n",
       "    }\n",
       "\n",
       "    .dataframe tbody tr th {\n",
       "        vertical-align: top;\n",
       "    }\n",
       "\n",
       "    .dataframe thead th {\n",
       "        text-align: right;\n",
       "    }\n",
       "</style>\n",
       "<table border=\"1\" class=\"dataframe\">\n",
       "  <thead>\n",
       "    <tr style=\"text-align: right;\">\n",
       "      <th></th>\n",
       "      <th>name</th>\n",
       "      <th>age</th>\n",
       "    </tr>\n",
       "  </thead>\n",
       "  <tbody>\n",
       "    <tr>\n",
       "      <th>0</th>\n",
       "      <td>Sasha</td>\n",
       "      <td>9</td>\n",
       "    </tr>\n",
       "    <tr>\n",
       "      <th>1</th>\n",
       "      <td>Dima</td>\n",
       "      <td>11</td>\n",
       "    </tr>\n",
       "  </tbody>\n",
       "</table>\n",
       "</div>"
      ],
      "text/plain": [
       "    name  age\n",
       "0  Sasha    9\n",
       "1   Dima   11"
      ]
     },
     "execution_count": 5,
     "metadata": {},
     "output_type": "execute_result"
    }
   ],
   "source": [
    "df= pd.DataFrame({'name': ['Sasha', 'Dima'], 'age': [9,11]})\n",
    "df"
   ]
  },
  {
   "cell_type": "code",
   "execution_count": 2,
   "metadata": {},
   "outputs": [],
   "source": [
    "connection = sqlite3.connect('my_database.db')\n",
    "cursor = connection.cursor()\n",
    "cursor.execute('''\n",
    "CREATE TABLE IF NOT EXISTS \n",
    "Users (\n",
    "id INTEGER PRIMARY KEY,\n",
    "username TEXT NOT NULL,\n",
    "email TEXT NOT NULL,\n",
    "age INTEGER       \n",
    ")\n",
    "''')\n",
    "connection.commit()\n",
    "connection.close()"
   ]
  },
  {
   "cell_type": "code",
   "execution_count": 19,
   "metadata": {},
   "outputs": [],
   "source": [
    "connection = sqlite3.connect('my_database.db')\n",
    "cursor = connection.cursor()\n",
    "\n",
    "\n",
    "cursor.execute('INSERT INTO Users (username, email, age) VALUES (?, ?, ?)', ('Julia', 'Julia-g@gmail.com', 1))\n",
    "cursor.execute('UPDATE Users SET age = ? WHERE username = ?', (25, 'Olga'))\n",
    "#cursor.execute('DELETE FROM Users WHERE username = ?', ('newuser',))\n",
    "\n",
    "connection.commit()\n",
    "connection.close()"
   ]
  },
  {
   "cell_type": "markdown",
   "metadata": {},
   "source": [
    "Запросы:"
   ]
  },
  {
   "cell_type": "code",
   "execution_count": 20,
   "metadata": {},
   "outputs": [
    {
     "name": "stdout",
     "output_type": "stream",
     "text": [
      "(5, 'Dima', 'Dima-g@gmail.com', 28)\n",
      "(6, 'Olga', 'Olga-g@gmail.com', 25)\n",
      "(7, 'Dasha', 'Dasha-g@gmail.com', 5)\n",
      "(8, 'Julia', 'Julia-g@gmail.com', 1)\n"
     ]
    }
   ],
   "source": [
    "connection = sqlite3.connect('my_database.db')\n",
    "cursor = connection.cursor()\n",
    "\n",
    "cursor.execute('SELECT * FROM Users')\n",
    "users = cursor.fetchall()\n",
    "\n",
    "for user in users:\n",
    "  print(user)\n",
    "\n",
    "connection.close()"
   ]
  },
  {
   "cell_type": "code",
   "execution_count": 21,
   "metadata": {},
   "outputs": [
    {
     "name": "stdout",
     "output_type": "stream",
     "text": [
      "('Dima', 28)\n",
      "('Olga', 25)\n"
     ]
    }
   ],
   "source": [
    "connection = sqlite3.connect('my_database.db')\n",
    "cursor = connection.cursor()\n",
    "\n",
    "\n",
    "cursor.execute('SELECT username, age FROM Users WHERE age > ?', (24,))\n",
    "results = cursor.fetchall()\n",
    "\n",
    "for row in results:\n",
    "  print(row)\n",
    "\n",
    "connection.close()"
   ]
  },
  {
   "cell_type": "code",
   "execution_count": 22,
   "metadata": {},
   "outputs": [
    {
     "name": "stdout",
     "output_type": "stream",
     "text": [
      "(1, 1.0)\n",
      "(5, 5.0)\n",
      "(25, 25.0)\n",
      "(28, 28.0)\n",
      "(25, 25.0)\n",
      "(28, 28.0)\n"
     ]
    }
   ],
   "source": [
    "connection = sqlite3.connect('my_database.db')\n",
    "cursor = connection.cursor()\n",
    "\n",
    "\n",
    "cursor.execute('SELECT age, AVG(age) FROM Users GROUP BY age')\n",
    "results = cursor.fetchall()\n",
    "\n",
    "for row in results:\n",
    "  print(row)\n",
    "  \n",
    "\n",
    "cursor.execute('SELECT age, AVG(age) FROM Users GROUP BY age HAVING AVG(age) > ?', (10,))\n",
    "filtered_results = cursor.fetchall()\n",
    "for row in filtered_results:\n",
    "  print(row)\n",
    "\n",
    "connection.close()"
   ]
  },
  {
   "cell_type": "code",
   "execution_count": 23,
   "metadata": {},
   "outputs": [
    {
     "name": "stdout",
     "output_type": "stream",
     "text": [
      "('Dima', 28)\n",
      "('Olga', 25)\n",
      "('Dasha', 5)\n",
      "('Julia', 1)\n"
     ]
    }
   ],
   "source": [
    "\n",
    "connection = sqlite3.connect('my_database.db')\n",
    "cursor = connection.cursor()\n",
    "\n",
    "\n",
    "cursor.execute('SELECT username, age FROM Users ORDER BY age DESC')\n",
    "results = cursor.fetchall()\n",
    "\n",
    "for row in results:\n",
    "  print(row)\n",
    "\n",
    "connection.close()"
   ]
  },
  {
   "cell_type": "code",
   "execution_count": 27,
   "metadata": {},
   "outputs": [
    {
     "name": "stdout",
     "output_type": "stream",
     "text": [
      "('Dima', 28, 28.0)\n",
      "('Olga', 25, 25.0)\n",
      "('Dasha', 5, 5.0)\n"
     ]
    }
   ],
   "source": [
    "connection = sqlite3.connect('my_database.db')\n",
    "cursor = connection.cursor()\n",
    "\n",
    "cursor.execute('''\n",
    "SELECT username, age, AVG(age)\n",
    "FROM Users\n",
    "GROUP BY age\n",
    "HAVING AVG(age) > ?\n",
    "ORDER BY age DESC\n",
    "''', (4,))\n",
    "results = cursor.fetchall()\n",
    "\n",
    "for row in results:\n",
    "  print(row)\n",
    "\n",
    "connection.close()"
   ]
  },
  {
   "cell_type": "code",
   "execution_count": 28,
   "metadata": {},
   "outputs": [
    {
     "name": "stdout",
     "output_type": "stream",
     "text": [
      "Общее количество пользователей: 4\n"
     ]
    }
   ],
   "source": [
    "connection = sqlite3.connect('my_database.db')\n",
    "cursor = connection.cursor()\n",
    "\n",
    "cursor.execute('SELECT COUNT(*) FROM Users')\n",
    "total_users = cursor.fetchone()[0]\n",
    "\n",
    "print('Общее количество пользователей:', total_users)\n",
    "connection.close()"
   ]
  },
  {
   "cell_type": "code",
   "execution_count": 29,
   "metadata": {},
   "outputs": [
    {
     "name": "stdout",
     "output_type": "stream",
     "text": [
      "Общая сумма возрастов пользователей: 59\n"
     ]
    }
   ],
   "source": [
    "connection = sqlite3.connect('my_database.db')\n",
    "cursor = connection.cursor()\n",
    "\n",
    "cursor.execute('SELECT SUM(age) FROM Users')\n",
    "total_age = cursor.fetchone()[0]\n",
    "\n",
    "print('Общая сумма возрастов пользователей:', total_age)\n",
    "connection.close()"
   ]
  },
  {
   "cell_type": "code",
   "execution_count": 30,
   "metadata": {},
   "outputs": [
    {
     "name": "stdout",
     "output_type": "stream",
     "text": [
      "Средний возраст пользователей: 14.75\n"
     ]
    }
   ],
   "source": [
    "connection = sqlite3.connect('my_database.db')\n",
    "cursor = connection.cursor()\n",
    "\n",
    "cursor.execute('SELECT AVG(age) FROM Users')\n",
    "average_age = cursor.fetchone()[0]\n",
    "\n",
    "print('Средний возраст пользователей:', average_age)\n",
    "connection.close()"
   ]
  },
  {
   "cell_type": "code",
   "execution_count": 31,
   "metadata": {},
   "outputs": [
    {
     "name": "stdout",
     "output_type": "stream",
     "text": [
      "Минимальный возраст среди пользователей: 1\n"
     ]
    }
   ],
   "source": [
    "connection = sqlite3.connect('my_database.db')\n",
    "cursor = connection.cursor()\n",
    "\n",
    "cursor.execute('SELECT MIN(age) FROM Users')\n",
    "min_age = cursor.fetchone()[0]\n",
    "\n",
    "print('Минимальный возраст среди пользователей:', min_age)\n",
    "connection.close()"
   ]
  },
  {
   "cell_type": "code",
   "execution_count": 32,
   "metadata": {},
   "outputs": [
    {
     "name": "stdout",
     "output_type": "stream",
     "text": [
      "('Dima', 28)\n"
     ]
    }
   ],
   "source": [
    "connection = sqlite3.connect('my_database.db')\n",
    "cursor = connection.cursor()\n",
    "\n",
    "\n",
    "cursor.execute('''\n",
    "SELECT username, age\n",
    "FROM Users\n",
    "WHERE age = (SELECT MAX(age) FROM Users)\n",
    "''')\n",
    "oldest_users = cursor.fetchall()\n",
    "\n",
    "for user in oldest_users:\n",
    "  print(user)\n",
    "  \n",
    "connection.close()"
   ]
  },
  {
   "cell_type": "code",
   "execution_count": 33,
   "metadata": {},
   "outputs": [
    {
     "name": "stdout",
     "output_type": "stream",
     "text": [
      "(5, 'Dima', 'Dima-g@gmail.com', 28)\n",
      "(6, 'Olga', 'Olga-g@gmail.com', 25)\n",
      "(7, 'Dasha', 'Dasha-g@gmail.com', 5)\n",
      "(8, 'Julia', 'Julia-g@gmail.com', 1)\n"
     ]
    }
   ],
   "source": [
    "connection = sqlite3.connect('my_database.db')\n",
    "cursor = connection.cursor()\n",
    "\n",
    "cursor.execute('SELECT * FROM Users')\n",
    "users = cursor.fetchall()\n",
    "\n",
    "for user in users:\n",
    "  print(user)\n",
    "  \n",
    "connection.close()"
   ]
  },
  {
   "cell_type": "code",
   "execution_count": 34,
   "metadata": {},
   "outputs": [
    {
     "name": "stdout",
     "output_type": "stream",
     "text": [
      "(5, 'Dima', 'Dima-g@gmail.com', 28)\n",
      "[(5, 'Dima', 'Dima-g@gmail.com', 28), (6, 'Olga', 'Olga-g@gmail.com', 25), (7, 'Dasha', 'Dasha-g@gmail.com', 5)]\n",
      "[(5, 'Dima', 'Dima-g@gmail.com', 28), (6, 'Olga', 'Olga-g@gmail.com', 25), (7, 'Dasha', 'Dasha-g@gmail.com', 5), (8, 'Julia', 'Julia-g@gmail.com', 1)]\n"
     ]
    }
   ],
   "source": [
    "connection = sqlite3.connect('my_database.db')\n",
    "cursor = connection.cursor()\n",
    "\n",
    "\n",
    "cursor.execute('SELECT * FROM Users')\n",
    "first_user = cursor.fetchone()\n",
    "print(first_user)\n",
    "\n",
    "\n",
    "cursor.execute('SELECT * FROM Users')\n",
    "first_3_users = cursor.fetchmany(3)\n",
    "print(first_3_users)\n",
    "\n",
    "\n",
    "cursor.execute('SELECT * FROM Users')\n",
    "all_users = cursor.fetchall()\n",
    "print(all_users)\n",
    "\n",
    "connection.close()"
   ]
  },
  {
   "cell_type": "code",
   "execution_count": 36,
   "metadata": {},
   "outputs": [
    {
     "name": "stdout",
     "output_type": "stream",
     "text": [
      "{'id': 8, 'username': 'Julia', 'email': 'Julia-g@gmail.com', 'age': 1}\n"
     ]
    }
   ],
   "source": [
    "connection = sqlite3.connect('my_database.db')\n",
    "cursor = connection.cursor()\n",
    "\n",
    "cursor.execute('SELECT * FROM Users')\n",
    "users = cursor.fetchall()\n",
    "\n",
    "users_list = []\n",
    "for user in users:\n",
    "  user_dict = {\n",
    "    'id': user[0],\n",
    "    'username': user[1],\n",
    "    'email': user[2],\n",
    "    'age': user[3]\n",
    "  }\n",
    "users_list.append(user_dict)\n",
    "\n",
    "for user in users_list:\n",
    "  print(user)\n",
    "connection.close()"
   ]
  },
  {
   "cell_type": "markdown",
   "metadata": {},
   "source": [
    "Подготовленные запросы:"
   ]
  },
  {
   "cell_type": "code",
   "execution_count": 38,
   "metadata": {},
   "outputs": [
    {
     "name": "stdout",
     "output_type": "stream",
     "text": [
      "(5, 'Dima', 'Dima-g@gmail.com', 28)\n"
     ]
    }
   ],
   "source": [
    "connection = sqlite3.connect('my_database.db')\n",
    "cursor = connection.cursor()\n",
    "\n",
    "query = 'SELECT * FROM Users WHERE age > ?'\n",
    "cursor.execute(query, (25,))\n",
    "users = cursor.fetchall()\n",
    "\n",
    "for user in users:\n",
    "  print(user)\n",
    "  \n",
    "connection.close()"
   ]
  }
 ],
 "metadata": {
  "kernelspec": {
   "display_name": "Python 3",
   "language": "python",
   "name": "python3"
  },
  "language_info": {
   "codemirror_mode": {
    "name": "ipython",
    "version": 3
   },
   "file_extension": ".py",
   "mimetype": "text/x-python",
   "name": "python",
   "nbconvert_exporter": "python",
   "pygments_lexer": "ipython3",
   "version": "3.11.3"
  }
 },
 "nbformat": 4,
 "nbformat_minor": 2
}
